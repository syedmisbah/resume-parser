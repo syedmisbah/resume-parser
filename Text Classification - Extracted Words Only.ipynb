{
 "cells": [
  {
   "cell_type": "code",
   "execution_count": 1,
   "metadata": {},
   "outputs": [],
   "source": [
    "## for data\n",
    "import json\n",
    "import pandas as pd\n",
    "import numpy as np\n",
    "## for plotting\n",
    "import matplotlib.pyplot as plt\n",
    "import seaborn as sns\n",
    "## for processing\n",
    "import re\n",
    "import nltk\n",
    "## for bag-of-words\n",
    "from sklearn import feature_extraction, model_selection, naive_bayes, pipeline, manifold, preprocessing,metrics\n",
    "## for explainer\n",
    "# from lime import lime_text\n",
    "## for word embedding\n",
    "import gensim\n",
    "import gensim.downloader as gensim_api\n",
    "## for deep learning\n",
    "from tensorflow.keras import models, layers, preprocessing as kprocessing\n",
    "from tensorflow.keras import backend as K\n",
    "## for bert language model\n",
    "import transformers\n",
    "\n",
    "import ast"
   ]
  },
  {
   "cell_type": "code",
   "execution_count": 2,
   "metadata": {},
   "outputs": [
    {
     "data": {
      "text/html": [
       "<div>\n",
       "<style scoped>\n",
       "    .dataframe tbody tr th:only-of-type {\n",
       "        vertical-align: middle;\n",
       "    }\n",
       "\n",
       "    .dataframe tbody tr th {\n",
       "        vertical-align: top;\n",
       "    }\n",
       "\n",
       "    .dataframe thead th {\n",
       "        text-align: right;\n",
       "    }\n",
       "</style>\n",
       "<table border=\"1\" class=\"dataframe\">\n",
       "  <thead>\n",
       "    <tr style=\"text-align: right;\">\n",
       "      <th></th>\n",
       "      <th>resume_filename</th>\n",
       "      <th>keywords</th>\n",
       "      <th>designation</th>\n",
       "      <th>full_parsed_text</th>\n",
       "      <th>skills</th>\n",
       "    </tr>\n",
       "  </thead>\n",
       "  <tbody>\n",
       "    <tr>\n",
       "      <th>0</th>\n",
       "      <td>Amrender_CV Latest</td>\n",
       "      <td>['statistical model used- logistic regression'...</td>\n",
       "      <td>['Data Scientist', 'Data Miner', 'Modeler', 'M...</td>\n",
       "      <td>Email-aky7347@gmail.com Contact-8247567046 Amr...</td>\n",
       "      <td>['Analytics Skills', 'Supervised learning', ' ...</td>\n",
       "    </tr>\n",
       "    <tr>\n",
       "      <th>1</th>\n",
       "      <td>Anand</td>\n",
       "      <td>['/anand-g-4813291a7 profile seeking', 'utiliz...</td>\n",
       "      <td>No Position Held</td>\n",
       "      <td>CONTACT INFO Excel, R, Python, HTML, CSS, Djan...</td>\n",
       "      <td>['Good learning abilities and quick grasping s...</td>\n",
       "    </tr>\n",
       "    <tr>\n",
       "      <th>2</th>\n",
       "      <td>Ankunil Das</td>\n",
       "      <td>['converted existing qlik sense report', 'tabl...</td>\n",
       "      <td>['Tableau Developer', 'Intelligence Specialist...</td>\n",
       "      <td>Ankunil Das Tableau Consultant [image: ][image...</td>\n",
       "      <td>['Analytical Tools: Tableau 9.x', ' 10.x', ' 2...</td>\n",
       "    </tr>\n",
       "    <tr>\n",
       "      <th>3</th>\n",
       "      <td>Anuradha update Resume</td>\n",
       "      <td>['/anuradha-jha-9a7215146 performed key role',...</td>\n",
       "      <td>No Position Held</td>\n",
       "      <td>Anuradha Jha Bengaluru, Karnataka Email : anur...</td>\n",
       "      <td>['- C++', ' Python', ' c language', 'Framework...</td>\n",
       "    </tr>\n",
       "    <tr>\n",
       "      <th>4</th>\n",
       "      <td>Arjit_Vis</td>\n",
       "      <td>['secondary skills python data cleaning', 'scr...</td>\n",
       "      <td>['Business Intelligence Developer', 'Director'...</td>\n",
       "      <td>[image: ] CONTACT DETAILS (M) +91 9456018997 (...</td>\n",
       "      <td>['computing', 'e-governance', 'shop floor', 'v...</td>\n",
       "    </tr>\n",
       "  </tbody>\n",
       "</table>\n",
       "</div>"
      ],
      "text/plain": [
       "          resume_filename                                           keywords  \\\n",
       "0      Amrender_CV Latest  ['statistical model used- logistic regression'...   \n",
       "1                   Anand  ['/anand-g-4813291a7 profile seeking', 'utiliz...   \n",
       "2             Ankunil Das  ['converted existing qlik sense report', 'tabl...   \n",
       "3  Anuradha update Resume  ['/anuradha-jha-9a7215146 performed key role',...   \n",
       "4               Arjit_Vis  ['secondary skills python data cleaning', 'scr...   \n",
       "\n",
       "                                         designation  \\\n",
       "0  ['Data Scientist', 'Data Miner', 'Modeler', 'M...   \n",
       "1                                   No Position Held   \n",
       "2  ['Tableau Developer', 'Intelligence Specialist...   \n",
       "3                                   No Position Held   \n",
       "4  ['Business Intelligence Developer', 'Director'...   \n",
       "\n",
       "                                    full_parsed_text  \\\n",
       "0  Email-aky7347@gmail.com Contact-8247567046 Amr...   \n",
       "1  CONTACT INFO Excel, R, Python, HTML, CSS, Djan...   \n",
       "2  Ankunil Das Tableau Consultant [image: ][image...   \n",
       "3  Anuradha Jha Bengaluru, Karnataka Email : anur...   \n",
       "4  [image: ] CONTACT DETAILS (M) +91 9456018997 (...   \n",
       "\n",
       "                                              skills  \n",
       "0  ['Analytics Skills', 'Supervised learning', ' ...  \n",
       "1  ['Good learning abilities and quick grasping s...  \n",
       "2  ['Analytical Tools: Tableau 9.x', ' 10.x', ' 2...  \n",
       "3  ['- C++', ' Python', ' c language', 'Framework...  \n",
       "4  ['computing', 'e-governance', 'shop floor', 'v...  "
      ]
     },
     "execution_count": 2,
     "metadata": {},
     "output_type": "execute_result"
    }
   ],
   "source": [
    "df = pd.read_csv('parsed_df.csv')\n",
    "df['resume_filename'] = df['resume_filename'].str.split('\\\\').str[-1]\n",
    "df['resume_filename'] = df['resume_filename'].str.split('.').str[0]\n",
    "mapping = pd.read_csv('resume_dataset.csv')\n",
    "df = df[['resume_filename','keywords','designation','full_parsed_text','skills']]\n",
    "df.head()"
   ]
  },
  {
   "cell_type": "code",
   "execution_count": 3,
   "metadata": {},
   "outputs": [
    {
     "data": {
      "text/html": [
       "<div>\n",
       "<style scoped>\n",
       "    .dataframe tbody tr th:only-of-type {\n",
       "        vertical-align: middle;\n",
       "    }\n",
       "\n",
       "    .dataframe tbody tr th {\n",
       "        vertical-align: top;\n",
       "    }\n",
       "\n",
       "    .dataframe thead th {\n",
       "        text-align: right;\n",
       "    }\n",
       "</style>\n",
       "<table border=\"1\" class=\"dataframe\">\n",
       "  <thead>\n",
       "    <tr style=\"text-align: right;\">\n",
       "      <th></th>\n",
       "      <th>Team</th>\n",
       "      <th>Name</th>\n",
       "      <th>File Name</th>\n",
       "      <th>Current Company name</th>\n",
       "    </tr>\n",
       "  </thead>\n",
       "  <tbody>\n",
       "    <tr>\n",
       "      <th>0</th>\n",
       "      <td>Analytics</td>\n",
       "      <td>Ajay</td>\n",
       "      <td>resume.nw</td>\n",
       "      <td>Tech Mahindra</td>\n",
       "    </tr>\n",
       "    <tr>\n",
       "      <th>1</th>\n",
       "      <td>Analytics</td>\n",
       "      <td>Amrender Yadav</td>\n",
       "      <td>Amrender_CV Latest</td>\n",
       "      <td>Betsol</td>\n",
       "    </tr>\n",
       "    <tr>\n",
       "      <th>2</th>\n",
       "      <td>Analytics</td>\n",
       "      <td>Anand</td>\n",
       "      <td>Anand</td>\n",
       "      <td>Fresher</td>\n",
       "    </tr>\n",
       "    <tr>\n",
       "      <th>3</th>\n",
       "      <td>Analytics</td>\n",
       "      <td>Anuradha</td>\n",
       "      <td>Anuradha update Resume</td>\n",
       "      <td>Fresher</td>\n",
       "    </tr>\n",
       "    <tr>\n",
       "      <th>4</th>\n",
       "      <td>Analytics</td>\n",
       "      <td>Ashoka B</td>\n",
       "      <td>ashokaDot51193@gmailDotcom</td>\n",
       "      <td>Miraco IT Services</td>\n",
       "    </tr>\n",
       "    <tr>\n",
       "      <th>5</th>\n",
       "      <td>Analytics</td>\n",
       "      <td>Baiju Singh</td>\n",
       "      <td>Baiju Kumar Singh Resume</td>\n",
       "      <td>Larsen &amp; Turbo</td>\n",
       "    </tr>\n",
       "    <tr>\n",
       "      <th>6</th>\n",
       "      <td>Analytics</td>\n",
       "      <td>Bhakthipoorna</td>\n",
       "      <td>Bhakthipoorna</td>\n",
       "      <td>Fresher</td>\n",
       "    </tr>\n",
       "    <tr>\n",
       "      <th>7</th>\n",
       "      <td>Analytics</td>\n",
       "      <td>Bheeshma</td>\n",
       "      <td>Bheeshma Resume</td>\n",
       "      <td>Tech Mahindra</td>\n",
       "    </tr>\n",
       "    <tr>\n",
       "      <th>8</th>\n",
       "      <td>Analytics</td>\n",
       "      <td>Dehlia Redker</td>\n",
       "      <td>DehliaRedke</td>\n",
       "      <td>Fresher</td>\n",
       "    </tr>\n",
       "    <tr>\n",
       "      <th>9</th>\n",
       "      <td>Analytics</td>\n",
       "      <td>Dinesh Kumar</td>\n",
       "      <td>Dinesh_resume</td>\n",
       "      <td>ABM Web Solutions</td>\n",
       "    </tr>\n",
       "  </tbody>\n",
       "</table>\n",
       "</div>"
      ],
      "text/plain": [
       "        Team            Name                   File Name Current Company name\n",
       "0  Analytics            Ajay                   resume.nw       Tech Mahindra \n",
       "1  Analytics  Amrender Yadav          Amrender_CV Latest               Betsol\n",
       "2  Analytics           Anand                       Anand              Fresher\n",
       "3  Analytics        Anuradha      Anuradha update Resume              Fresher\n",
       "4  Analytics        Ashoka B  ashokaDot51193@gmailDotcom   Miraco IT Services\n",
       "5  Analytics     Baiju Singh    Baiju Kumar Singh Resume       Larsen & Turbo\n",
       "6  Analytics   Bhakthipoorna               Bhakthipoorna              Fresher\n",
       "7  Analytics        Bheeshma             Bheeshma Resume       Tech Mahindra \n",
       "8  Analytics   Dehlia Redker                 DehliaRedke              Fresher\n",
       "9  Analytics    Dinesh Kumar               Dinesh_resume    ABM Web Solutions"
      ]
     },
     "execution_count": 3,
     "metadata": {},
     "output_type": "execute_result"
    }
   ],
   "source": [
    "mapping = mapping[['Team','Name','File Name','Current Company name']]\n",
    "# mapping.columns = ['Team','File Name','Current Company name']\n",
    "mapping.head(10)"
   ]
  },
  {
   "cell_type": "code",
   "execution_count": 4,
   "metadata": {},
   "outputs": [
    {
     "data": {
      "text/html": [
       "<div>\n",
       "<style scoped>\n",
       "    .dataframe tbody tr th:only-of-type {\n",
       "        vertical-align: middle;\n",
       "    }\n",
       "\n",
       "    .dataframe tbody tr th {\n",
       "        vertical-align: top;\n",
       "    }\n",
       "\n",
       "    .dataframe thead th {\n",
       "        text-align: right;\n",
       "    }\n",
       "</style>\n",
       "<table border=\"1\" class=\"dataframe\">\n",
       "  <thead>\n",
       "    <tr style=\"text-align: right;\">\n",
       "      <th></th>\n",
       "      <th>y</th>\n",
       "      <th>keywords</th>\n",
       "      <th>designation</th>\n",
       "      <th>skills</th>\n",
       "      <th>full_parsed_text</th>\n",
       "    </tr>\n",
       "  </thead>\n",
       "  <tbody>\n",
       "    <tr>\n",
       "      <th>0</th>\n",
       "      <td>Analytics</td>\n",
       "      <td>['statistical model used- logistic regression'...</td>\n",
       "      <td>['Data Scientist', 'Data Miner', 'Modeler', 'M...</td>\n",
       "      <td>['Analytics Skills', 'Supervised learning', ' ...</td>\n",
       "      <td>Email-aky7347@gmail.com Contact-8247567046 Amr...</td>\n",
       "    </tr>\n",
       "    <tr>\n",
       "      <th>1</th>\n",
       "      <td>Analytics</td>\n",
       "      <td>['/anand-g-4813291a7 profile seeking', 'utiliz...</td>\n",
       "      <td>No Position Held</td>\n",
       "      <td>['Good learning abilities and quick grasping s...</td>\n",
       "      <td>CONTACT INFO Excel, R, Python, HTML, CSS, Djan...</td>\n",
       "    </tr>\n",
       "    <tr>\n",
       "      <th>2</th>\n",
       "      <td>Analytics</td>\n",
       "      <td>['/anuradha-jha-9a7215146 performed key role',...</td>\n",
       "      <td>No Position Held</td>\n",
       "      <td>['- C++', ' Python', ' c language', 'Framework...</td>\n",
       "      <td>Anuradha Jha Bengaluru, Karnataka Email : anur...</td>\n",
       "    </tr>\n",
       "    <tr>\n",
       "      <th>3</th>\n",
       "      <td>Analytics</td>\n",
       "      <td>['personal details skills dob', 'handling mach...</td>\n",
       "      <td>['Data Scientist', 'Data Scientist', 'Data Sci...</td>\n",
       "      <td>['+91 9611816904', 'hridharagadde', '', 'Bella...</td>\n",
       "      <td>1 Products Products ASHOKA B Jr Data Scientist...</td>\n",
       "    </tr>\n",
       "    <tr>\n",
       "      <th>4</th>\n",
       "      <td>Analytics</td>\n",
       "      <td>['azure matplotlib seaborn mongodb probablity'...</td>\n",
       "      <td>['Data Scientist', 'Data Scientist']</td>\n",
       "      <td>['Known: English and Hindi', 'Kaggle Id: https...</td>\n",
       "      <td>BAIJU KUMAR SINGH Data Science l Machine Learn...</td>\n",
       "    </tr>\n",
       "  </tbody>\n",
       "</table>\n",
       "</div>"
      ],
      "text/plain": [
       "           y                                           keywords  \\\n",
       "0  Analytics  ['statistical model used- logistic regression'...   \n",
       "1  Analytics  ['/anand-g-4813291a7 profile seeking', 'utiliz...   \n",
       "2  Analytics  ['/anuradha-jha-9a7215146 performed key role',...   \n",
       "3  Analytics  ['personal details skills dob', 'handling mach...   \n",
       "4  Analytics  ['azure matplotlib seaborn mongodb probablity'...   \n",
       "\n",
       "                                         designation  \\\n",
       "0  ['Data Scientist', 'Data Miner', 'Modeler', 'M...   \n",
       "1                                   No Position Held   \n",
       "2                                   No Position Held   \n",
       "3  ['Data Scientist', 'Data Scientist', 'Data Sci...   \n",
       "4               ['Data Scientist', 'Data Scientist']   \n",
       "\n",
       "                                              skills  \\\n",
       "0  ['Analytics Skills', 'Supervised learning', ' ...   \n",
       "1  ['Good learning abilities and quick grasping s...   \n",
       "2  ['- C++', ' Python', ' c language', 'Framework...   \n",
       "3  ['+91 9611816904', 'hridharagadde', '', 'Bella...   \n",
       "4  ['Known: English and Hindi', 'Kaggle Id: https...   \n",
       "\n",
       "                                    full_parsed_text  \n",
       "0  Email-aky7347@gmail.com Contact-8247567046 Amr...  \n",
       "1  CONTACT INFO Excel, R, Python, HTML, CSS, Djan...  \n",
       "2  Anuradha Jha Bengaluru, Karnataka Email : anur...  \n",
       "3  1 Products Products ASHOKA B Jr Data Scientist...  \n",
       "4  BAIJU KUMAR SINGH Data Science l Machine Learn...  "
      ]
     },
     "execution_count": 4,
     "metadata": {},
     "output_type": "execute_result"
    }
   ],
   "source": [
    "merged_dataset = mapping.merge(df,how='inner',left_on=['File Name'],right_on=['resume_filename'])\n",
    "merged_dataset = merged_dataset[['Team','keywords','designation','skills','full_parsed_text']]\n",
    "merged_dataset.rename(columns={'Team':'y'},inplace=True)\n",
    "merged_dataset.head()"
   ]
  },
  {
   "cell_type": "code",
   "execution_count": 5,
   "metadata": {},
   "outputs": [],
   "source": [
    "del merged_dataset['full_parsed_text']\n",
    "merged_dataset['full_parsed_text'] = merged_dataset['designation'] + merged_dataset['skills']  + merged_dataset['keywords'] \n",
    "merged_dataset['full_parsed_text'] = merged_dataset['full_parsed_text'].map(lambda x: re.sub(r'[^A-Za-z0-9]+', ' ', x))"
   ]
  },
  {
   "cell_type": "code",
   "execution_count": 6,
   "metadata": {},
   "outputs": [],
   "source": [
    "'''\n",
    "Preprocess a string.\n",
    ":parameter\n",
    "    :param text: string - name of column containing text\n",
    "    :param lst_stopwords: list - list of stopwords to remove\n",
    "    :param flg_stemm: bool - whether stemming is to be applied\n",
    "    :param flg_lemm: bool - whether lemmitisation is to be applied\n",
    ":return\n",
    "    cleaned text\n",
    "'''\n",
    "def utils_preprocess_text(text, flg_stemm=False, flg_lemm=True, lst_stopwords=None):\n",
    "    ## clean (convert to lowercase and remove punctuations and   \n",
    "    #characters and then strip)\n",
    "    text = re.sub(r'[^\\w\\s]', '', str(text).lower().strip())\n",
    "            \n",
    "    ## Tokenize (convert from string to list)\n",
    "    lst_text = text.split()\n",
    "    ## remove Stopwords\n",
    "    if lst_stopwords is not None:\n",
    "        lst_text = [word for word in lst_text if word not in \n",
    "                    lst_stopwords]\n",
    "                \n",
    "    ## Stemming (remove -ing, -ly, ...)\n",
    "    if flg_stemm == True:\n",
    "        ps = nltk.stem.porter.PorterStemmer()\n",
    "        lst_text = [ps.stem(word) for word in lst_text]\n",
    "                \n",
    "    ## Lemmatisation (convert the word into root word)\n",
    "    if flg_lemm == True:\n",
    "        lem = nltk.stem.wordnet.WordNetLemmatizer()\n",
    "        lst_text = [lem.lemmatize(word) for word in lst_text]\n",
    "            \n",
    "    ## back to string from list\n",
    "    text = \" \".join(lst_text)\n",
    "    return text"
   ]
  },
  {
   "cell_type": "code",
   "execution_count": 7,
   "metadata": {},
   "outputs": [],
   "source": [
    "lst_stopwords = pd.read_csv('stopwords-en.txt',header=None)\n",
    "lst_stopwords = lst_stopwords[0].unique().tolist()"
   ]
  },
  {
   "cell_type": "code",
   "execution_count": 8,
   "metadata": {},
   "outputs": [],
   "source": [
    "merged_dataset[\"text_clean\"] = merged_dataset[\"full_parsed_text\"].apply(lambda x: \n",
    "          utils_preprocess_text(x, flg_stemm=False, flg_lemm=True, \n",
    "          lst_stopwords=lst_stopwords))"
   ]
  },
  {
   "cell_type": "code",
   "execution_count": 9,
   "metadata": {},
   "outputs": [],
   "source": [
    "## split dataset\n",
    "dtf_train, dtf_test = model_selection.train_test_split(merged_dataset, test_size=0.3)\n",
    "## get target\n",
    "y_train = dtf_train[\"y\"].values\n",
    "y_test = dtf_test[\"y\"].values"
   ]
  },
  {
   "cell_type": "code",
   "execution_count": 10,
   "metadata": {},
   "outputs": [],
   "source": [
    "corpus = dtf_train[\"text_clean\"]\n",
    "\n",
    "## create list of lists of unigrams\n",
    "lst_corpus = []\n",
    "for string in corpus:\n",
    "    lst_words = string.split()\n",
    "    lst_grams = [\" \".join(lst_words[i:i+1]) \n",
    "               for i in range(0, len(lst_words), 1)]\n",
    "    lst_corpus.append(lst_grams)\n",
    "\n",
    "## detect bigrams and trigrams\n",
    "bigrams_detector = gensim.models.phrases.Phrases(lst_corpus, \n",
    "                 delimiter=\" \".encode(), min_count=5, threshold=10)\n",
    "bigrams_detector = gensim.models.phrases.Phraser(bigrams_detector)\n",
    "trigrams_detector = gensim.models.phrases.Phrases(bigrams_detector[lst_corpus], \n",
    "            delimiter=\" \".encode(), min_count=5, threshold=10)\n",
    "trigrams_detector = gensim.models.phrases.Phraser(trigrams_detector)"
   ]
  },
  {
   "cell_type": "code",
   "execution_count": 11,
   "metadata": {},
   "outputs": [],
   "source": [
    "## fit w2v\n",
    "nlp = gensim.models.word2vec.Word2Vec(lst_corpus, size=300,   \n",
    "            window=8, min_count=1, sg=1, iter=30)"
   ]
  },
  {
   "cell_type": "code",
   "execution_count": 12,
   "metadata": {},
   "outputs": [],
   "source": [
    "## tokenize text\n",
    "tokenizer = kprocessing.text.Tokenizer(lower=True, split=' ', \n",
    "                     oov_token=\"NaN\", \n",
    "                     filters='!\"#$%&()*+,-./:;<=>?@[\\\\]^_`{|}~\\t\\n')\n",
    "tokenizer.fit_on_texts(lst_corpus)\n",
    "dic_vocabulary = tokenizer.word_index\n",
    "## create sequence\n",
    "lst_text2seq= tokenizer.texts_to_sequences(lst_corpus)\n",
    "## padding sequence\n",
    "X_train = kprocessing.sequence.pad_sequences(lst_text2seq, \n",
    "                    maxlen=15, padding=\"post\", truncating=\"post\")"
   ]
  },
  {
   "cell_type": "code",
   "execution_count": 13,
   "metadata": {},
   "outputs": [],
   "source": [
    "corpus = dtf_test[\"text_clean\"]\n",
    "\n",
    "## create list of n-grams\n",
    "lst_corpus = []\n",
    "for string in corpus:\n",
    "    lst_words = string.split()\n",
    "    lst_grams = [\" \".join(lst_words[i:i+1]) for i in range(0, \n",
    "                 len(lst_words), 1)]\n",
    "    lst_corpus.append(lst_grams)\n",
    "    \n",
    "## detect common bigrams and trigrams using the fitted detectors\n",
    "lst_corpus = list(bigrams_detector[lst_corpus])\n",
    "lst_corpus = list(trigrams_detector[lst_corpus])\n",
    "## text to sequence with the fitted tokenizer\n",
    "lst_text2seq = tokenizer.texts_to_sequences(lst_corpus)\n",
    "\n",
    "## padding sequence\n",
    "X_test = kprocessing.sequence.pad_sequences(lst_text2seq, maxlen=15,\n",
    "             padding=\"post\", truncating=\"post\")"
   ]
  },
  {
   "cell_type": "code",
   "execution_count": 14,
   "metadata": {},
   "outputs": [
    {
     "name": "stderr",
     "output_type": "stream",
     "text": [
      "<ipython-input-14-9112dbec5449>:6: DeprecationWarning: Call to deprecated `__getitem__` (Method will be removed in 4.0.0, use self.wv.__getitem__() instead).\n",
      "  embeddings[idx] =  nlp[word]\n"
     ]
    }
   ],
   "source": [
    "## start the matrix (length of vocabulary x vector size) with all 0s\n",
    "embeddings = np.zeros((len(dic_vocabulary)+1, 300))\n",
    "for word,idx in dic_vocabulary.items():\n",
    "    ## update the row with vector\n",
    "    try:\n",
    "        embeddings[idx] =  nlp[word]\n",
    "    ## if word not in model then skip and the row stays all 0s\n",
    "    except:\n",
    "        pass"
   ]
  },
  {
   "cell_type": "code",
   "execution_count": 15,
   "metadata": {},
   "outputs": [
    {
     "name": "stdout",
     "output_type": "stream",
     "text": [
      "Model: \"model\"\n",
      "__________________________________________________________________________________________________\n",
      "Layer (type)                    Output Shape         Param #     Connected to                     \n",
      "==================================================================================================\n",
      "input_1 (InputLayer)            [(None, 15)]         0                                            \n",
      "__________________________________________________________________________________________________\n",
      "embedding (Embedding)           (None, 15, 300)      473100      input_1[0][0]                    \n",
      "__________________________________________________________________________________________________\n",
      "permute (Permute)               (None, 300, 15)      0           embedding[0][0]                  \n",
      "__________________________________________________________________________________________________\n",
      "dense (Dense)                   (None, 300, 15)      240         permute[0][0]                    \n",
      "__________________________________________________________________________________________________\n",
      "attention (Permute)             (None, 15, 300)      0           dense[0][0]                      \n",
      "__________________________________________________________________________________________________\n",
      "multiply (Multiply)             (None, 15, 300)      0           embedding[0][0]                  \n",
      "                                                                 attention[0][0]                  \n",
      "__________________________________________________________________________________________________\n",
      "bidirectional (Bidirectional)   (None, 15, 30)       37920       multiply[0][0]                   \n",
      "__________________________________________________________________________________________________\n",
      "bidirectional_1 (Bidirectional) (None, 30)           5520        bidirectional[0][0]              \n",
      "__________________________________________________________________________________________________\n",
      "dense_1 (Dense)                 (None, 64)           1984        bidirectional_1[0][0]            \n",
      "__________________________________________________________________________________________________\n",
      "dense_2 (Dense)                 (None, 3)            195         dense_1[0][0]                    \n",
      "==================================================================================================\n",
      "Total params: 518,959\n",
      "Trainable params: 45,859\n",
      "Non-trainable params: 473,100\n",
      "__________________________________________________________________________________________________\n"
     ]
    }
   ],
   "source": [
    "## code attention layer\n",
    "def attention_layer(inputs, neurons):\n",
    "    x = layers.Permute((2,1))(inputs)\n",
    "    x = layers.Dense(neurons, activation=\"softmax\")(x)\n",
    "    x = layers.Permute((2,1), name=\"attention\")(x)\n",
    "    x = layers.multiply([inputs, x])\n",
    "    return x\n",
    "\n",
    "## input\n",
    "x_in = layers.Input(shape=(15,))\n",
    "## embedding\n",
    "x = layers.Embedding(input_dim=embeddings.shape[0],  \n",
    "                     output_dim=embeddings.shape[1], \n",
    "                     weights=[embeddings],\n",
    "                     input_length=15, trainable=False)(x_in)\n",
    "## apply attention\n",
    "x = attention_layer(x, neurons=15)\n",
    "## 2 layers of bidirectional lstm\n",
    "x = layers.Bidirectional(layers.LSTM(units=15, dropout=0.2, \n",
    "                         return_sequences=True))(x)\n",
    "x = layers.Bidirectional(layers.LSTM(units=15, dropout=0.2))(x)\n",
    "## final dense layers\n",
    "x = layers.Dense(64, activation='relu')(x)\n",
    "y_out = layers.Dense(3, activation='softmax')(x)\n",
    "## compile\n",
    "model = models.Model(x_in, y_out)\n",
    "model.compile(loss='sparse_categorical_crossentropy',\n",
    "              optimizer='adam', metrics=['accuracy'])\n",
    "\n",
    "model.summary()"
   ]
  },
  {
   "cell_type": "code",
   "execution_count": 16,
   "metadata": {},
   "outputs": [],
   "source": [
    "## encode y\n",
    "dic_y_mapping = {n:label for n,label in \n",
    "                 enumerate(np.unique(y_train))}\n",
    "inverse_dic = {v:k for k,v in dic_y_mapping.items()}\n",
    "y_train = np.array([inverse_dic[y] for y in y_train])\n",
    "## train\n",
    "training = model.fit(x=X_train, y=y_train, batch_size=256, \n",
    "                     epochs=10, shuffle=True, verbose=0, \n",
    "                     validation_split=0.3)"
   ]
  },
  {
   "cell_type": "code",
   "execution_count": 17,
   "metadata": {},
   "outputs": [],
   "source": [
    "classes = np.unique(y_test)\n",
    "y_test_array = pd.get_dummies(y_test, drop_first=False).values\n",
    "    "
   ]
  },
  {
   "cell_type": "code",
   "execution_count": 18,
   "metadata": {},
   "outputs": [],
   "source": [
    "## test\n",
    "predicted_prob = model.predict(X_test)\n",
    "predicted = [dic_y_mapping[np.argmax(pred)] for pred in \n",
    "             predicted_prob]"
   ]
  },
  {
   "cell_type": "code",
   "execution_count": 19,
   "metadata": {},
   "outputs": [
    {
     "name": "stdout",
     "output_type": "stream",
     "text": [
      "Accuracy 60.0 %\n"
     ]
    }
   ],
   "source": [
    "print(\"Accuracy\", round((metrics.accuracy_score(y_pred=predicted,y_true=y_test))*100,2) ,'%')"
   ]
  },
  {
   "cell_type": "code",
   "execution_count": 20,
   "metadata": {
    "scrolled": true
   },
   "outputs": [
    {
     "data": {
      "text/plain": [
       "(array([0.5, 1.5]), [Text(0, 0.5, 'Analytics'), Text(0, 1.5, 'BI& Reporting')])"
      ]
     },
     "execution_count": 20,
     "metadata": {},
     "output_type": "execute_result"
    },
    {
     "data": {
      "image/png": "[encoded data removed]",
      "text/plain": [
       "<Figure size 432x288 with 1 Axes>"
      ]
     },
     "metadata": {
      "needs_background": "light"
     },
     "output_type": "display_data"
    }
   ],
   "source": [
    "## Plot confusion matrix\n",
    "cm = metrics.confusion_matrix(y_test, predicted)\n",
    "fig, ax = plt.subplots()\n",
    "sns.heatmap(cm, annot=True, fmt='d', ax=ax, cmap=plt.cm.Blues, \n",
    "            cbar=False)\n",
    "ax.set(xlabel=\"Pred\", ylabel=\"True\", xticklabels=classes, \n",
    "       yticklabels=classes, title=\"Confusion matrix\")\n",
    "plt.yticks(rotation=0)\n"
   ]
  },
  {
   "cell_type": "code",
   "execution_count": 21,
   "metadata": {},
   "outputs": [
    {
     "data": {
      "image/png": "[encoded data removed]",
      "text/plain": [
       "<Figure size 432x288 with 2 Axes>"
      ]
     },
     "metadata": {
      "needs_background": "light"
     },
     "output_type": "display_data"
    }
   ],
   "source": [
    "\n",
    "fig, ax = plt.subplots(nrows=1, ncols=2)\n",
    "## Plot roc\n",
    "for i in range(len(classes)):\n",
    "    fpr, tpr, thresholds = metrics.roc_curve(y_test_array[:,i],  \n",
    "                           predicted_prob[:,i])\n",
    "    ax[0].plot(fpr, tpr, lw=3, \n",
    "              label='{0} (area={1:0.2f})'.format(classes[i], \n",
    "                              metrics.auc(fpr, tpr))\n",
    "               )\n",
    "ax[0].plot([0,1], [0,1], color='navy', lw=3, linestyle='--')\n",
    "ax[0].set(xlim=[-0.05,1.0], ylim=[0.0,1.05], \n",
    "          xlabel='False Positive Rate', \n",
    "          ylabel=\"True Positive Rate (Recall)\", \n",
    "          title=\"Receiver operating characteristic\")\n",
    "ax[0].legend(loc=\"lower right\")\n",
    "ax[0].grid(True)\n",
    "\n",
    "## Plot precision-recall curve\n",
    "for i in range(len(classes)):\n",
    "    precision, recall, thresholds = metrics.precision_recall_curve(\n",
    "                 y_test_array[:,i], predicted_prob[:,i])\n",
    "    ax[1].plot(recall, precision, lw=3, \n",
    "               label='{0} (area={1:0.2f})'.format(classes[i], \n",
    "                                  metrics.auc(recall, precision))\n",
    "              )\n",
    "ax[1].set(xlim=[0.0,1.05], ylim=[0.0,1.05], xlabel='Recall', \n",
    "          ylabel=\"Precision\", title=\"Precision-Recall curve\")\n",
    "ax[1].legend(loc=\"best\")\n",
    "ax[1].grid(True)\n",
    "plt.show()"
   ]
  }
 ],
 "metadata": {
  "kernelspec": {
   "display_name": "Python 3",
   "language": "python",
   "name": "python3"
  },
  "language_info": {
   "codemirror_mode": {
    "name": "ipython",
    "version": 3
   },
   "file_extension": ".py",
   "mimetype": "text/x-python",
   "name": "python",
   "nbconvert_exporter": "python",
   "pygments_lexer": "ipython3",
   "version": "3.8.5"
  }
 },
 "nbformat": 4,
 "nbformat_minor": 4
}
