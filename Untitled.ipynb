{
 "cells": [
  {
   "cell_type": "code",
   "execution_count": 4,
   "metadata": {},
   "outputs": [],
   "source": [
    "import pandas as pd\n",
    "import re\n",
    "company_list_us = pd.read_csv('company_list_usa.csv',header=None)\n",
    "company_list_others = pd.read_csv('company_list_others.csv',header=None)\n",
    "company_list_us = company_list_us[0].tolist()\n",
    "company_list_others = company_list_others[0].tolist()\n",
    "company_list_all = company_list_others + company_list_us"
   ]
  },
  {
   "cell_type": "code",
   "execution_count": 5,
   "metadata": {},
   "outputs": [],
   "source": [
    "text_ = 'Email-aky7347@gmail.com Contact-8247567046 Amrender Yadav Summary Data Scientist with splendid statistical and data mining skills, an insatiable intellectual curiosity and the ability to mine hidden insights located within large set of structured, semi-structured and unstructured data. Able to leverage a heavy dose of mathematics and applied statistics with visualization and a healthy sense of exploration. ______________________________________________________________________________________ Career Overview Currently around 4.4 years of experience in analytics domain. To learn from every step and work in an effective way. Professional Experience ➢ Betsol Jun-2020-Till Present ➢ Key responsibilities Telecom Domain Getting insights from the data using correlation analysis ,causation analysis, Quartile Analysis, Stacked ranking, Kano Analysis, Sentiment analysis. Creating reports on Weekly ,Bi Weekly and Fiscal basis to keep a track of agent performance and identifying areas of improvement w.r.t NPS(Net Promoter Score), AHT, FCR, Sentiment %, S4X Behaviour,TSR ,Ficsal and quarterly wise team performance analysis. Statistical model used- Logistic Regression, Random forest, Feature Importance, Customer Segmentation ,Stacked Ranking using Z score , Correlation Analysis, Time Series Forecasting(Prophet) Text Mining- Word cloud, Sentiment analysis,NLP,Spacy and NLTK Tool used- Python, Power BI, Tableau and Microsoft Excel. ➢ ValueLabs Oct-2017-Feb-2020 ➢ Key responsibilities Telecom & Healthcare Domain During my tenure with ValueLabs, I was engaged in providing actionable business insights from data using state of the art statistics and machine learning algorithm for the Insurance, Airlines, and Digital Media, healthcare and Telecom Industries. Project I- Predictive Mapping (DataLake tool-Data Miner) Performed predictive mapping on indicative data. Pushed the data into UAT environment as per client requirement. Tool used-DataLake, Oracle and MsExcel. Project II- Churn Analytics (Telecom) Predict customers who are going to churn and finding out the factors that are leading to churn based on the customer feedback reports. Statistical model used- Logistic Regression, Feature Importance ,Random forest and Customer Segmentation. Text Mining- Word cloud, Sentiment analysis. Tool used- R Studio, Tableau, Python, IBM SPSS Modeler and Oracle Received award for my innovative idea, presented to the client. ➢ Intelenet Global Services July- 2015-Aug-2016 ➢ Key responsibilities Telecom Domain Project I-Risk Analytics (Telecom Domain) -Predicted the customers who might get defaulter in the bill cycle. Prepared descriptive Statistical reports, Data Visualization. Statistical model used-Logistic Regression and CART. Tool used- Python, Tableau, R Studio, SQL and MS Excel mailto:Email-aky7347@gmail.com R SQL Python Microsoft Excel BTech Jawaharlal Technological University-Hyderabad Technical Skills Analytics Skills Supervised learning, Unsupervised learning , Tableau, Power BI, IBM SPSS Modeler, Python, Oracle , R programming, Decision trees, Random forest , Deep Learning, Statistics, Sentiment Analysis ,Linear regression ,Logistic regression, Hadoop, Core java, Html, Data mining and data cleaning Participated in Kaggle and Analytics Vidya Hackathon challenges. Github-Projects https://github.com/Amrenderv1?tab=repositories https://github.com/Amrenderv1/Telecom-Churn https://github.com/Amrenderv1/Deep-Learning--- Capshttps://github.com/Amrenderv1/Songs-Recommender https://github.com/Amrenderv1/Text-Mining Have a look at my online cv as well Copy and paste the below link in the browser URL https://amrenderv1.github.io/Amrender_Curriculum_Vitae/ https://github.com/Amrenderv1?tab=repositories https://github.com/Amrenderv1/Telecom-Churn https://github.com/Amrenderv1/Deep-Learning---Caps https://github.com/Amrenderv1/Deep-Learning---Caps https://github.com/Amrenderv1/Songs-Recommender https://github.com/Amrenderv1/Text-Mining https://amrenderv1.github.io/Amrender_Curriculum_Vitae/'"
   ]
  },
  {
   "cell_type": "code",
   "execution_count": 6,
   "metadata": {},
   "outputs": [],
   "source": [
    "company_list_all = [re.sub('[^a-zA-Z0-9]+', ' ', _) for _ in company_list_us]\n",
    "company_list_all = [_.strip() for _ in company_list_all]"
   ]
  },
  {
   "cell_type": "code",
   "execution_count": null,
   "metadata": {},
   "outputs": [],
   "source": [
    "company_list_all.sort()\n",
    "company_list_all"
   ]
  },
  {
   "cell_type": "code",
   "execution_count": 7,
   "metadata": {},
   "outputs": [
    {
     "name": "stdout",
     "output_type": "stream",
     "text": [
      "['ma', 'ai', 'k', 'ma', 'ai', 'com', 'on', 'nt', 'ta', 'act', 'ct', 'mren', 'rende', 'e', 'n', 'e', 'ada', 'av', 'um', 'mma', 'ma', 'ata', 'ta', 'cie', 'e', 'nt', 's', 'it', 'th', 'h', 'sp', 'pl', 'le', 'e', 'n', 'did', 'id', 's', 'ta', 'atis', 's', 'ca', 'n', 'ata', 'ta', 'a m', 'mining', 'n', 'n', 's', 'k', 'lls', 'ls', 's', 'n', 'insatiable', 'ns', 's', 'ia', 'able', 'bl', 'le', 'e', 'intel', 'nt', 'e', 'lle', 'le', 'e', 'ct', 'curi', 'ur', 'ios', 'osi', 's', 'it', 'n', 'th', 'h', 'e', 'ability to', 'bi', 'it', 'mine', 'n', 'e', 'hidden', 'idd', 'e', 'n', 'insi', 'ns', 's', 'igh', 'h', 's', 'locate', 'ocat', 'ca', 'e', 'within', 'it', 'th', 'h', 'n', 'large', 'ge', 'e', 'set', 'e', 'f s', 'struc', 'tru', 'ct', 'ur', 'e', 'sem', 'e', 'struc', 'tru', 'ct', 'ur', 'e', 'd a', 'n', 'ns', 'struc', 'tru', 'ct', 'ur', 'e', 'ata', 'ta', 'bl', 'le', 'e', 'leverage', 'e', 'ver', 'e', 'ra', 'ge', 'e', 'h', 'e', 'av', 'dose', 's', 'e', 'f m', 'ma', 'ath', 'th', 'h', 'e', 'ma', 'ics', 's', 'n', 'd a', 'app', 'ppl', 'pl', 'e', 's', 'ta', 'atis', 's', 'ics', 's', 'it', 'th', 'h', 'visual', 's', 'ion', 'on', 'n a', 'n', 'd a', 'h', 'e', 'th', 'h', 's', 'e', 'ns', 's', 'e', 'e', 'xplor', 'pl', 'lo', 'oration', 'rat', 'ion', 'on', 'n', 'Ca', 'e', 'e', 'verv', 'e', 'rvi', 'vie', 'e', 'ur', 'rently', 'e', 'nt', 'tl', 'ly', 'around', 'round', 'ou', 'n', 'yea', 'e', 'ars', 's', 'e', 'xperience', 'e', 'ience', 'e', 'n', 'e', 'n a', 'n', 'alyt', 'ly', 'ics', 's', 'dom', 'ma', 'ai', 'n', 'le', 'e', 'rn', 'n', 'fro', 'rom', 'e', 'ver', 'e', 's', 'ep', 'p a', 'n', 'work', 'or', 'rk', 'k', 'n a', 'n', 'e', 'fec', 'e', 'ct', 'e', 'wa', 'fess', 'essio', 'ssi', 's', 'ion', 'on', 'n', 'xperience', 'e', 'ience', 'e', 'n', 'e', 'e', 's', 'ol', 'n', 'rese', 'e', 'sent', 'e', 'nt', 'e', 'esp', 'sp', 'po', 'on', 'ns', 'sibi', 'ibiliti', 'bi', 'it', 'tie', 'ies', 'e', 's', 'e', 'le', 'e', 'com', 'ma', 'ai', 'n', 'e', 'n', 'insi', 'ns', 's', 'igh', 'h', 's', 'fro', 'rom', 'th', 'h', 'e', 'ata', 'ta', 's', 'n', 'g co', 'cor', 'or', 'rel', 'ela', 'lat', 'ion', 'on', 'n a', 'analysis', 'n', 'ly', 's', 's', 'ca', 'aus', 's', 'ion', 'on', 'n a', 'analysis', 'n', 'ly', 's', 's', 'artile', 'rti', 'tile', 'le', 'e', 'n', 'ly', 's', 's', 'ta', 'ac', 'k', 'e', 'ra', 'anki', 'n', 'k', 'n', 'ano', 'n', 'n', 'ly', 's', 's', 'e', 'nt', 'im', 'ment', 'e', 'nt', 'analysis', 'n', 'ly', 's', 's', 'e', 'n', 'g r', 'repo', 'ep', 'po', 'or', 'rts', 's', 'on', 'n', 'e', 'e', 'k', 'ly', 'e', 'e', 'k', 'ly', 'n', 'isc', 's', 'ca', 'l b', 'basis', 'asi', 's', 'is t', 's', 'k', 'e', 'ep', 'p a', 'trac', 'ra', 'ac', 'k', 'ge', 'e', 'nt', 'perf', 'e', 'form', 'orman', 'rma', 'ma', 'n', 'e', 'n', 'id', 'dent', 'e', 'nt', 'tif', 'if', 'ying', 'n', 'g a', 'e', 's', 'im', 'mpro', 'rov', 'vem', 'e', 'ment', 'e', 'nt', 'e', 'rom', 'mote', 'e', 'cor', 'ore', 'e', 'e', 'nt', 'im', 'ment', 'e', 'nt', 'e', 'havi', 'av', 'vi', 'io', 'ou', 'ur', 'ics', 's', 'n', 'qua', 'rt', 'e', 'rly', 'ly', 'wis', 's', 'e', 'team performance', 'e', 'am', 'perf', 'e', 'form', 'orman', 'rma', 'ma', 'n', 'e', 'analysis', 'n', 'ly', 's', 's', 'ta', 'atis', 's', 'ca', 'l m', 'mode', 'ode', 'e', 's', 'e', 'og', 'gis', 's', 'e', 'essio', 'ssi', 's', 'ion', 'on', 'n', 'ndo', 'dom', 'ore', 'rest', 'e', 's', 'e', 'ur', 'e', 'po', 'or', 'rt', 'ta', 'n', 'e', 's', 'tome', 'e', 'e', 'mentat', 'e', 'nt', 'ta', 'ion', 'on', 'n', 'ta', 'ac', 'k', 'e', 'anki', 'n', 'k', 'n', 'g u', 's', 'n', 's', 'cor', 'ore', 'e', 'or', 'rel', 'ela', 'lat', 'ion', 'on', 'n', 'n', 'ly', 's', 's', 'Time', 'im', 'e', 'e', 'ies', 'e', 's', 'ore', 'e', 'ca', 's', 'n', 'op', 'ph', 'h', 'e', 'e', 'n', 'n', 'or', 'rd', 'd c', 'cl', 'lo', 'ou', 'e', 'nt', 'im', 'ment', 'e', 'nt', 'analysis', 'n', 'ly', 's', 's', 'pac', 'ac', 'n', 'ol', 's', 'e', 'yth', 'th', 'h', 'on', 'n', 'e', 'able', 'bl', 'le', 'e', 'n', 'Microsoft', 'icr', 's', 'e', 'lu', 'e', 'abs', 's', 'ct', 'e', 'e', 'esp', 'sp', 'po', 'on', 'ns', 'sibi', 'ibiliti', 'bi', 'it', 'tie', 'ies', 'e', 's', 'e', 'le', 'e', 'com', 'e', 'th', 'h', 'ca', 'e', 'ma', 'ai', 'n', 'ur', 'ring', 'n', 'my', 'e', 'n', 'ur', 'e', 'it', 'th', 'h', 'lu', 'e', 'abs', 's', 'wa', 's', 'e', 'nga', 'gage', 'ge', 'e', 'n', 'rov', 'vi', 'id', 'ding', 'n', 'g a', 'act', 'ct', 'ion', 'on', 'n', 'able', 'bl', 'le bus', 'e', 'busines', 's', 'nes', 'ess', 's', 's', 'insi', 'ns', 's', 'igh', 'h', 's', 'fro', 'rom', 'ata', 'ta', 's', 'n', 'g stat', 's', 'ta', 'e', 'th', 'h', 'e', 'rt', 's', 'ta', 'atis', 's', 'ics', 's', 'n', 'd m', 'ma', 'ac', 'chi', 'h', 'n', 'e', 'le', 'e', 'rn', 'n', 'n', 'g a', 'go', 'or', 'it', 'th', 'h', 'or', 'th', 'h', 'e', 'ns', 's', 'ur', 'ra', 'n', 'e', 'lin', 'nes', 'e', 's', 'n', 'git', 'it', 'ta', 'e', 'ia', 'h', 'e', 'th', 'h', 'ca', 'e', 'n', 'e', 'le', 'e', 'com', 'n', 'str', 'ies', 'e', 's', 'oj', 'jec', 'e', 'ct', 'e', 'ict', 'ct', 'e', 'app', 'pi', 'n', 'ata', 'ta', 'k', 'e', 'tool', 'ol', 'ata', 'ta', 'n', 'e', 'e', 'form', 'or', 'rmed', 'e', 'predictive', 'e', 'ict', 'ct', 'e', 'ma', 'app', 'pi', 'n', 'on', 'n', 'ind', 'n', 'icat', 'ca', 'e', 'ata', 'ta', 's', 'h', 'e', 'th', 'h', 'e', 'ata', 'ta', 'a i', 'nt', 'e', 'n', 'vir', 'on', 'n', 'ment', 'e', 'nt', 's', 'e', 'cl', 'e', 'nt', 'require', 'e', 'reme', 'e', 'ment', 'e', 'nt', 'ol', 's', 'e', 'ata', 'ta', 'k', 'e', 'ra', 'ac', 'cl', 'le a', 'e', 'n', 's', 'e', 'oj', 'jec', 'e', 'ct', 'h', 'ur', 'rn', 'n', 'n', 'alyt', 'ly', 'ics', 's', 'e', 'le', 'e', 'com', 'e', 'ict', 'ct', 'customer', 's', 'tome', 'mers', 'e', 's', 'who', 'h', 'e', 'going', 'oin', 'n', 'ch', 'h', 'ur', 'rn', 'n a', 'n', 'finding', 'ind', 'n', 'ding', 'n', 'ou', 'th', 'h', 'e', 'factor', 'act', 'ct', 'or', 's', 'th', 'h', 'e', 'le', 'e', 'adi', 'ding', 'n', 'ch', 'h', 'ur', 'rn', 'n', 'bas', 's', 'e', 'on', 'n', 'th', 'h', 'e', 'customer', 's', 'tome', 'e', 'feedb', 'e', 'e', 'ac', 'k', 'repo', 'ep', 'po', 'or', 'rts', 's', 'ta', 'atis', 's', 'ca', 'l m', 'mode', 'ode', 'e', 's', 'e', 'og', 'gis', 's', 'e', 'essio', 'ssi', 's', 'ion', 'on', 'n', 'e', 'ur', 'e', 'po', 'or', 'rt', 'ta', 'n', 'e', 'ndo', 'dom', 'ore', 'rest', 'e', 's', 'n', 's', 'tome', 'e', 'e', 'mentat', 'e', 'nt', 'ta', 'ion', 'on', 'n', 'e', 'n', 'n', 'or', 'rd', 'd c', 'cl', 'lo', 'ou', 'e', 'nt', 'im', 'ment', 'e', 'nt', 'analysis', 'n', 'ly', 's', 's', 'ol', 's', 'e', 'io', 'able', 'bl', 'le', 'e', 'yth', 'th', 'h', 'on', 'n', 'IBM', 'ode', 'e', 'le', 'e', 'n', 'ra', 'ac', 'cl', 'le', 'e', 'e', 'cei', 'e', 'e', 'd a', 'award', 'wa', 'ard', 'rd', 'or', 'r m', 'my', 'innov', 'n', 'n', 'e', 'id', 'e', 'present', 'rese', 'e', 'sent', 'e', 'nt', 'e', 'th', 'h', 'e', 'cl', 'e', 'nt', 'Intel', 'nt', 'e', 'le', 'e', 'n', 'e', 'lob', 'ob', 'e', 'rvi', 'vices', 'ice', 'ces', 'e', 's', 'ul', 'ly', 'e', 'esp', 'sp', 'po', 'on', 'ns', 'sibi', 'ibiliti', 'bi', 'it', 'tie', 'ies', 'e', 's', 'e', 'le', 'e', 'com', 'ma', 'ai', 'n', 'oj', 'jec', 'e', 'ct', 's', 'k', 'n', 'alyt', 'ly', 'ics', 's', 'e', 'le', 'e', 'com', 'ma', 'ai', 'n', 'e', 'ict', 'ct', 'e', 'th', 'h', 'e', 'customer', 's', 'tome', 'mers', 'e', 's', 'who', 'h', 'mig', 'igh', 'h', 'ge', 'e', 't d', 'e', 'ul', 'e', 'n', 'th', 'h', 'e', 'bi', 'cl', 'le', 'e', 'rep', 'ep', 'pared', 'e', 'descript', 'escrip', 'scr', 'cri', 'pt', 'e', 'ta', 'atis', 's', 'ca', 'l r', 'repo', 'ep', 'po', 'or', 'rts', 's', 'ata', 'ta', 's', 'ion', 'on', 'n', 'ta', 'atis', 's', 'ca', 'l m', 'mode', 'ode', 'e', 's', 'e', 'og', 'gis', 's', 'e', 'essio', 'ssi', 's', 'ion', 'on', 'n a', 'n', 'CA', 'ol', 's', 'e', 'yth', 'th', 'h', 'on', 'n', 'able', 'bl', 'le', 'e', 'io', 'n', 'e', 'l m', 'ma', 'ai', 'lto', 'ma', 'ai', 'k', 'ma', 'ai', 'com', 'yth', 'th', 'h', 'on', 'n', 'Microsoft', 'icr', 's', 'e', 'e', 'ch', 'h', 'wa', 'aha', 'h', 'rla', 'e', 'chno', 'h', 'nolo', 'ol', 'logic', 'og', 'gica', 'ca', 'n', 'versity', 'e', 'rsi', 's', 'it', 'e', 'ra', 'e', 'ch', 'h', 'n', 'ca', 'k', 'lls', 'ls', 's', 'n', 'alyt', 'ly', 'ics', 's', 'k', 'lls', 'ls', 's', 'e', 'rvi', 'vi', 's', 'e', 'le', 'e', 'rn', 'n', 'n', 'ns', 's', 'e', 'rvi', 'vi', 's', 'e', 'le', 'e', 'rn', 'n', 'n', 'able', 'bl', 'le', 'e', 'e', 'IBM', 'ode', 'e', 'le', 'e', 'yth', 'th', 'h', 'on', 'n', 'ra', 'ac', 'cl', 'le', 'e', 'rog', 'og', 'gra', 'ra', 'ammi', 'n', 'e', 'cision', 's', 'ion', 'on', 'n', 'e', 'e', 's', 'ndo', 'dom', 'ore', 'rest', 'e', 's', 'e', 'ep', 'e', 'rn', 'n', 'n', 'ta', 'atis', 's', 'ics', 's', 'e', 'nt', 'im', 'ment', 'e', 'nt', 'n', 'ly', 's', 's', 'n', 'e', 'r r', 'reg', 'e', 'essio', 'ssi', 's', 'ion', 'on', 'n', 'og', 'gis', 's', 'reg', 'e', 'essio', 'ssi', 's', 'ion', 'on', 'n', 'doop', 'op', 'ore', 'e', 'jav', 'av', 'tm', 'ata', 'ta', 'a m', 'mining', 'n', 'n', 'g a', 'n', 'ata', 'ta', 'cl', 'le', 'e', 'ani', 'n', 'n', 'artic', 'rti', 'ici', 'ipat', 'e', 'n', 'Kaggle', 'gg', 'gle', 'le a', 'e', 'n', 'n', 'alyt', 'ly', 'ics', 's', 'id', 'ya', 'ac', 'k', 'ath', 'th', 'h', 'on', 'n', 'challeng', 'hal', 'lle', 'le', 'e', 'nge', 'ge', 'e', 's', 'Github', 'it', 'th', 'h', 'oj', 'jec', 'e', 'ct', 's', 'h', 's', 'github', 'it', 'th', 'h', 'com', 'mren', 'rende', 'e', 'n', 'e', 'tab', 'repo', 'ep', 'posi', 'osi', 's', 'it', 'or', 'ies', 'e', 's', 'h', 's', 'github', 'it', 'th', 'h', 'com', 'mren', 'rende', 'e', 'n', 'e', 'e', 'le', 'e', 'com', 'h', 'ur', 'rn', 'n', 'h', 's', 'github', 'it', 'th', 'h', 'com', 'mren', 'rende', 'e', 'n', 'e', 'e', 'ep', 'e', 'rn', 'n', 'n', 'Ca', 's', 'h', 's', 'github', 'it', 'th', 'h', 'com', 'mren', 'rende', 'e', 'n', 'e', 'on', 'n', 'gs', 's', 'e', 'com', 'omm', 'mme', 'mender', 'e', 'n', 'e', 'r h', 'h', 's', 'github', 'it', 'th', 'h', 'com', 'mren', 'rende', 'e', 'n', 'e', 'e', 'n', 'n', 'av', 'e', 'a l', 'lo', 'k', 'my', 'on', 'n', 'lin', 'n', 'e', 's', 'wel', 'e', 'op', 'n', 'pas', 's', 'e', 'th', 'h', 'e', 'e', 'lo', 'link', 'n', 'k', 'n', 'th', 'h', 'e', 'bro', 'row', 'ows', 'ws', 's', 'e', 'h', 's', 'amre', 'mren', 'rende', 'e', 'n', 'e', 'github', 'it', 'th', 'h', 'io', 'mren', 'rende', 'e', 'n', 'e', 'ur', 'ul', 'lu', 'um', 'it', 'ta', 'e', 'h', 's', 'github', 'it', 'th', 'h', 'com', 'mren', 'rende', 'e', 'n', 'e', 'tab', 'repo', 'ep', 'posi', 'osi', 's', 'it', 'or', 'ies', 'e', 's', 'h', 's', 'github', 'it', 'th', 'h', 'com', 'mren', 'rende', 'e', 'n', 'e', 'e', 'le', 'e', 'com', 'h', 'ur', 'rn', 'n', 'h', 's', 'github', 'it', 'th', 'h', 'com', 'mren', 'rende', 'e', 'n', 'e', 'e', 'ep', 'e', 'rn', 'n', 'n', 'Ca', 's', 'h', 's', 'github', 'it', 'th', 'h', 'com', 'mren', 'rende', 'e', 'n', 'e', 'e', 'ep', 'e', 'rn', 'n', 'n', 'Ca', 's', 'h', 's', 'github', 'it', 'th', 'h', 'com', 'mren', 'rende', 'e', 'n', 'e', 'on', 'n', 'gs', 's', 'e', 'com', 'omm', 'mme', 'mender', 'e', 'n', 'e', 'r h', 'h', 's', 'github', 'it', 'th', 'h', 'com', 'mren', 'rende', 'e', 'n', 'e', 'e', 'n', 'n', 'h', 's', 'amre', 'mren', 'rende', 'e', 'n', 'e', 'github', 'it', 'th', 'h', 'io', 'mren', 'rende', 'e', 'n', 'e', 'ur', 'ul', 'lu', 'um', 'it', 'ta', 'e']\n"
     ]
    }
   ],
   "source": [
    "print(re.findall(r\"(?=(\"+'|'.join(company_list_all)+r\"))\", text_))"
   ]
  }
 ],
 "metadata": {
  "kernelspec": {
   "display_name": "Python 3",
   "language": "python",
   "name": "python3"
  },
  "language_info": {
   "codemirror_mode": {
    "name": "ipython",
    "version": 3
   },
   "file_extension": ".py",
   "mimetype": "text/x-python",
   "name": "python",
   "nbconvert_exporter": "python",
   "pygments_lexer": "ipython3",
   "version": "3.8.5"
  }
 },
 "nbformat": 4,
 "nbformat_minor": 4
}
