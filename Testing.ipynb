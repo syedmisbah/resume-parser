{
 "cells": [
  {
   "cell_type": "code",
   "execution_count": 3,
   "metadata": {},
   "outputs": [],
   "source": [
    "from find_job_titles import Finder"
   ]
  },
  {
   "cell_type": "code",
   "execution_count": 5,
   "metadata": {},
   "outputs": [],
   "source": [
    "finder = Finder()"
   ]
  },
  {
   "cell_type": "code",
   "execution_count": 21,
   "metadata": {},
   "outputs": [],
   "source": [
    "text_ = \"CONTACT INFO Excel, R, Python, HTML, CSS, Django, SQL, Power BI and Tableau. ANANDA G  +91 9686301746  anand80696@gmail.com  Yalahanka, Bengalure-560064 RESUME KEY TECHNICAL SKILLS MACHINE LEARNING SKILLS Statistics, Linear and logistic Regression, Decision Trees , Random Forest, Decision tree, Naïve Bayes, Cluster Analysis, Time series modeling, Ensemble models, Bagging, Boosting. CERTIFICATIONS Data Science course with Advanced Excel, R, Python, and Tableau from INDRAS ACEDEMY LinkedIn: https://www.linkedin.com/in/anand-g-4813291a7 PROFILE Seeking the position in Data analytics using Excel, R , Python, Sql, and Tableau technologies. To utilizing solid academic background along with exceptionally strong analytical skill, problem solving and customer service skills.. EDUCATION 2011-2012 SSLC from Swamy Shivanda Sevashrama High School, Thondebhavi with 76.80%. 2012-2014 12th (PCMB) from BGS PU College , Gauribidanur with 76.66%. 2014-2017 B.Sc (Statistics, Mathematics and Computer Science) from Government Science College, Bangalore with distinction 7.1/10 (CGPA). 2017-2020 M.Sc (Statistics) from Bangalore University, Banagalure with 5.8/10 (CGPA). PERSONAL SKILLS Good learning abilities and quick grasping skill. Willingness to learn, team facilitator and hard worker. AWARDS  Won awards in several sports competitions.  Participated in various forum activities and college cultural activities CAPSTONE PROJECT Income Qualification needed for the families in Latin America. LANGUAGES Speak Read Write English    Kannada    Telugu    Hindi    Tamil   \""
   ]
  },
  {
   "cell_type": "code",
   "execution_count": 23,
   "metadata": {},
   "outputs": [],
   "source": [
    "import calendar\n",
    "import re\n",
    "from datetime import datetime\n",
    "from dateutil.relativedelta import relativedelta"
   ]
  },
  {
   "cell_type": "code",
   "execution_count": 25,
   "metadata": {},
   "outputs": [
    {
     "name": "stdout",
     "output_type": "stream",
     "text": [
      "couldn't parse text\n"
     ]
    }
   ],
   "source": [
    "def parse_date(x, fmts=(\"%b %Y\", \"%B %Y\")):\n",
    "    for fmt in fmts:\n",
    "        try:\n",
    "            return datetime.strptime(x, fmt)\n",
    "        except ValueError:\n",
    "            pass\n",
    "\n",
    "months = \"|\".join(calendar.month_abbr[1:] + calendar.month_name[1:])\n",
    "pattern = fr\"(?i)((?:{months}) *\\d{{4}}) *(?:-|–) *(present|(?:{months}) *\\d{{4}})\"\n",
    "total_experience = None\n",
    "\n",
    "for start, end in re.findall(pattern, text_):\n",
    "    if end.lower() == \"present\":\n",
    "        today = datetime.today()\n",
    "        end = f\"{calendar.month_abbr[today.month]} {today.year}\"\n",
    "\n",
    "    duration = relativedelta(parse_date(end), parse_date(start))\n",
    "\n",
    "    if total_experience:\n",
    "        total_experience += duration\n",
    "    else: \n",
    "        total_experience = duration\n",
    "\n",
    "    print(f\"{start}-{end} ({duration.years} years, {duration.months} months)\")\n",
    "\n",
    "if total_experience:\n",
    "    print(f\"total experience:  {total_experience.years} years, {total_experience.months} months\")\n",
    "else:\n",
    "    print(\"couldn't parse text\")"
   ]
  },
  {
   "cell_type": "code",
   "execution_count": 17,
   "metadata": {},
   "outputs": [
    {
     "data": {
      "text/plain": [
       "['Data Scientist', 'Development Lead', 'Representative']"
      ]
     },
     "execution_count": 17,
     "metadata": {},
     "output_type": "execute_result"
    }
   ],
   "source": [
    "[item.match for each_item in matches] "
   ]
  }
 ],
 "metadata": {
  "kernelspec": {
   "display_name": "Python 3",
   "language": "python",
   "name": "python3"
  },
  "language_info": {
   "codemirror_mode": {
    "name": "ipython",
    "version": 3
   },
   "file_extension": ".py",
   "mimetype": "text/x-python",
   "name": "python",
   "nbconvert_exporter": "python",
   "pygments_lexer": "ipython3",
   "version": "3.8.5"
  }
 },
 "nbformat": 4,
 "nbformat_minor": 4
}
