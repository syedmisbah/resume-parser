{
 "cells": [
  {
   "cell_type": "markdown",
   "metadata": {},
   "source": [
    "# Resume Parsing"
   ]
  },
  {
   "cell_type": "markdown",
   "metadata": {},
   "source": [
    "###### import libraries"
   ]
  },
  {
   "cell_type": "code",
   "execution_count": null,
   "metadata": {},
   "outputs": [],
   "source": [
    "import glob\n",
    "import pandas as pd\n",
    "from resumeparse import resumeparse \n",
    "import geopy\n",
    "import re"
   ]
  },
  {
   "cell_type": "code",
   "execution_count": null,
   "metadata": {},
   "outputs": [],
   "source": [
    "list_of_resume = glob.glob('resume collated data/approved/*.*')\n",
    "list_of_resume = list_of_resume\n",
    "list_of_resume"
   ]
  },
  {
   "cell_type": "code",
   "execution_count": null,
   "metadata": {},
   "outputs": [],
   "source": [
    "parsed_df = pd.DataFrame(columns= ['resume_filename','email', 'phone', 'name', 'total_exp', 'university', 'designation', 'degree', 'skills', 'Companies worked at','full_parsed_text','pin_code','state_name','division_name','keywords'])"
   ]
  },
  {
   "cell_type": "code",
   "execution_count": null,
   "metadata": {},
   "outputs": [],
   "source": [
    "# all_text = ''\n",
    "# for each_resume in list_of_resume:\n",
    "#     try:\n",
    "#         data = resumeparse.read_file(each_resume)['full_parsed_text']\n",
    "# #         data_unlist = {k: str(v) for k,v in data.items()}\n",
    "#         all_text = all_text + data\n",
    "# #         parsed_df = parsed_df.append(pd.DataFrame(data_unlist,index =[0]))\n",
    "#     except:\n",
    "# #         raise\n",
    "#         pass\n"
   ]
  },
  {
   "cell_type": "markdown",
   "metadata": {},
   "source": [
    "###### Parsing each resume in the file "
   ]
  },
  {
   "cell_type": "code",
   "execution_count": null,
   "metadata": {},
   "outputs": [],
   "source": [
    "for each_resume in list_of_resume:\n",
    "    try:\n",
    "        data = resumeparse.read_file(each_resume)\n",
    "        data_unlist = {k: str(v) for k,v in data.items()}\n",
    "        print(each_resume)\n",
    "        curr_df = pd.DataFrame(data_unlist,index =[0])\n",
    "        curr_df['resume_filename'] = each_resume\n",
    "        parsed_df = parsed_df.append(curr_df)\n",
    "    except:\n",
    "#         raise\n",
    "        pass"
   ]
  },
  {
   "cell_type": "code",
   "execution_count": null,
   "metadata": {},
   "outputs": [],
   "source": [
    "parsed_df.to_csv('parsed_df.csv', index=False)"
   ]
  },
  {
   "cell_type": "code",
   "execution_count": null,
   "metadata": {},
   "outputs": [],
   "source": [
    "parsed_df"
   ]
  }
 ],
 "metadata": {
  "kernelspec": {
   "display_name": "Python 3",
   "language": "python",
   "name": "python3"
  },
  "language_info": {
   "codemirror_mode": {
    "name": "ipython",
    "version": 3
   },
   "file_extension": ".py",
   "mimetype": "text/x-python",
   "name": "python",
   "nbconvert_exporter": "python",
   "pygments_lexer": "ipython3",
   "version": "3.8.5"
  }
 },
 "nbformat": 4,
 "nbformat_minor": 4
}
