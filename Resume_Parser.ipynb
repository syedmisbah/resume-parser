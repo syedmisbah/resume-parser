{
 "cells": [
  {
   "cell_type": "markdown",
   "metadata": {},
   "source": [
    "# Resume Parsing"
   ]
  },
  {
   "cell_type": "markdown",
   "metadata": {},
   "source": [
    "###### import libraries"
   ]
  },
  {
   "cell_type": "code",
   "execution_count": 1,
   "metadata": {},
   "outputs": [
    {
     "name": "stderr",
     "output_type": "stream",
     "text": [
      "C:\\Users\\misba\\anaconda3\\lib\\site-packages\\spacy\\util.py:275: UserWarning: [W031] Model 'en_training' (0.0.0) requires spaCy v2.2 and is incompatible with the current spaCy version (2.3.5). This may lead to unexpected results or runtime errors. To resolve this, download a newer compatible model or retrain your custom model with the current spaCy version. For more details and available updates, run: python -m spacy validate\n",
      "  warnings.warn(warn_msg)\n"
     ]
    },
    {
     "name": "stdout",
     "output_type": "stream",
     "text": [
      "Imported function script\n"
     ]
    }
   ],
   "source": [
    "import glob\n",
    "import pandas as pd\n",
    "from resumeparse import resumeparse \n",
    "import geopy\n",
    "import re"
   ]
  },
  {
   "cell_type": "code",
   "execution_count": 2,
   "metadata": {},
   "outputs": [
    {
     "data": {
      "text/plain": [
       "['resume collated data/approved\\\\Amrender_CV Latest.pdf',\n",
       " 'resume collated data/approved\\\\Anand.pdf',\n",
       " 'resume collated data/approved\\\\Ankunil Das.docx',\n",
       " 'resume collated data/approved\\\\Anuradha update Resume.pdf',\n",
       " 'resume collated data/approved\\\\Arjit_Vis.docx',\n",
       " 'resume collated data/approved\\\\Arjun_Viz.pdf',\n",
       " 'resume collated data/approved\\\\Ashik Venkatesh Resume.pdf',\n",
       " 'resume collated data/approved\\\\ashokaDot51193@gmailDotcom.pdf',\n",
       " 'resume collated data/approved\\\\Baiju Kumar Singh Resume.pdf',\n",
       " 'resume collated data/approved\\\\Bhakthipoorna.pdf',\n",
       " 'resume collated data/approved\\\\Bheeshma Resume.docx',\n",
       " 'resume collated data/approved\\\\Chabbil Singla_Resume.pdf',\n",
       " 'resume collated data/approved\\\\DehliaRedke.pdf',\n",
       " 'resume collated data/approved\\\\Devanish_Sahoo.docx',\n",
       " 'resume collated data/approved\\\\Dinesh_resume.pdf',\n",
       " 'resume collated data/approved\\\\Divyanshu_Resume.pdf',\n",
       " 'resume collated data/approved\\\\Gowtham.pdf',\n",
       " 'resume collated data/approved\\\\Kapil Lehar Resume.pdf',\n",
       " 'resume collated data/approved\\\\Manish Chauhan Resume.pdf',\n",
       " 'resume collated data/approved\\\\Mayank Sharma.pdf',\n",
       " 'resume collated data/approved\\\\Nagaraja_Viz.pdf',\n",
       " 'resume collated data/approved\\\\Nagendra Singh Chauhan Resume.pdf',\n",
       " 'resume collated data/approved\\\\Naveen  Kumar CV.docx',\n",
       " 'resume collated data/approved\\\\Nishkarsh Singh[3_0].pdf',\n",
       " 'resume collated data/approved\\\\Pradeep_Viz.pdf',\n",
       " 'resume collated data/approved\\\\PrajnaDas.pdf',\n",
       " 'resume collated data/approved\\\\Rajeshwarsehdev Resume.pdf',\n",
       " 'resume collated data/approved\\\\Resume - Sumeet.pdf',\n",
       " 'resume collated data/approved\\\\Resume_Gautam.pdf',\n",
       " 'resume collated data/approved\\\\Resume_Kunal Gaurav.pdf',\n",
       " 'resume collated data/approved\\\\Resume_MandarKulkarni.pdf',\n",
       " 'resume collated data/approved\\\\resume_nw.docx',\n",
       " 'resume collated data/approved\\\\Rohit Khemka_CV.pdf',\n",
       " 'resume collated data/approved\\\\Saheli_Ray_Resume.pdf',\n",
       " 'resume collated data/approved\\\\Sai Kumar Resume.pdf',\n",
       " 'resume collated data/approved\\\\Saichawan_landmarkgroup_3years.pdf',\n",
       " 'resume collated data/approved\\\\Sajag Agrawal_Analyst_Resume.pdf',\n",
       " 'resume collated data/approved\\\\Saumya Srivastava_Resume.pdf',\n",
       " 'resume collated data/approved\\\\Savneet Kaur Arora Resume.pdf',\n",
       " 'resume collated data/approved\\\\Sharon_Viz.docx',\n",
       " 'resume collated data/approved\\\\Shubham Rai Resume.pdf',\n",
       " 'resume collated data/approved\\\\Sindhumatipanigrahi@gmailDotcom.pdf',\n",
       " 'resume collated data/approved\\\\Soumojit Chowdhury_Resume.pdf',\n",
       " 'resume collated data/approved\\\\Sourav_Bhunia_Resume_v2.pdf',\n",
       " 'resume collated data/approved\\\\Sunil Kumar.docx',\n",
       " 'resume collated data/approved\\\\Utsav Murarka_Resume.pdf',\n",
       " 'resume collated data/approved\\\\Vatsala_Jayswal_Resume-2-PDF.pdf',\n",
       " \"resume collated data/approved\\\\Vikrant's Resume (5).pdf\",\n",
       " 'resume collated data/approved\\\\Vivek Resume.pdf']"
      ]
     },
     "execution_count": 2,
     "metadata": {},
     "output_type": "execute_result"
    }
   ],
   "source": [
    "list_of_resume = glob.glob('resume collated data/approved/*.*')\n",
    "list_of_resume = list_of_resume\n",
    "list_of_resume"
   ]
  },
  {
   "cell_type": "code",
   "execution_count": 3,
   "metadata": {},
   "outputs": [],
   "source": [
    "parsed_df = pd.DataFrame(columns= ['resume_filename','email', 'phone', 'name', 'total_exp', 'university', 'designition', 'degree', 'skills', 'Companies worked at','full_parsed_text','pin_code','state_name','division_name','keywords'])"
   ]
  },
  {
   "cell_type": "code",
   "execution_count": 4,
   "metadata": {},
   "outputs": [],
   "source": [
    "# all_text = ''\n",
    "# for each_resume in list_of_resume:\n",
    "#     try:\n",
    "#         data = resumeparse.read_file(each_resume)['full_parsed_text']\n",
    "# #         data_unlist = {k: str(v) for k,v in data.items()}\n",
    "#         all_text = all_text + data\n",
    "# #         parsed_df = parsed_df.append(pd.DataFrame(data_unlist,index =[0]))\n",
    "#     except:\n",
    "# #         raise\n",
    "#         pass\n"
   ]
  },
  {
   "cell_type": "markdown",
   "metadata": {},
   "source": [
    "###### Parsing each resume in the file "
   ]
  },
  {
   "cell_type": "code",
   "execution_count": 5,
   "metadata": {},
   "outputs": [
    {
     "name": "stdout",
     "output_type": "stream",
     "text": [
      "[]\n",
      "resume collated data/approved\\Amrender_CV Latest.pdf\n",
      "['bangalore university']\n",
      "resume collated data/approved\\Anand.pdf\n",
      "['visvesvaraya technological university']\n",
      "resume collated data/approved\\Ankunil Das.docx\n",
      "['lalit narayan mithila university']\n",
      "resume collated data/approved\\Anuradha update Resume.pdf\n",
      "['university of technology']\n",
      "resume collated data/approved\\Arjit_Vis.docx\n",
      "['birla institute of technology and science']\n",
      "resume collated data/approved\\Arjun_Viz.pdf\n",
      "['visvesvaraya technological university']\n",
      "resume collated data/approved\\Ashik Venkatesh Resume.pdf\n",
      "['vtu']\n",
      "resume collated data/approved\\ashokaDot51193@gmailDotcom.pdf\n",
      "[]\n",
      "resume collated data/approved\\Baiju Kumar Singh Resume.pdf\n",
      "['mangalore university']\n",
      "resume collated data/approved\\Bhakthipoorna.pdf\n",
      "[]\n",
      "resume collated data/approved\\Bheeshma Resume.docx\n",
      "[]\n",
      "resume collated data/approved\\Chabbil Singla_Resume.pdf\n",
      "['bangalore university', 'goa university']\n",
      "resume collated data/approved\\DehliaRedke.pdf\n",
      "[]\n",
      "resume collated data/approved\\Devanish_Sahoo.docx\n",
      "[]\n",
      "resume collated data/approved\\Dinesh_resume.pdf\n",
      "[]\n",
      "resume collated data/approved\\Divyanshu_Resume.pdf\n",
      "[]\n",
      "resume collated data/approved\\Gowtham.pdf\n",
      "[]\n",
      "resume collated data/approved\\Kapil Lehar Resume.pdf\n",
      "['university of technology']\n",
      "resume collated data/approved\\Manish Chauhan Resume.pdf\n",
      "['banaras hindu university']\n",
      "resume collated data/approved\\Mayank Sharma.pdf\n",
      "['visvesvaraya technological university']\n",
      "resume collated data/approved\\Nagaraja_Viz.pdf\n",
      "[]\n",
      "resume collated data/approved\\Nagendra Singh Chauhan Resume.pdf\n",
      "['university of sheffield', 'bharathiar university']\n",
      "resume collated data/approved\\Naveen  Kumar CV.docx\n",
      "[]\n",
      "resume collated data/approved\\Nishkarsh Singh[3_0].pdf\n",
      "[]\n",
      "resume collated data/approved\\Pradeep_Viz.pdf\n",
      "['indian statistical institute', 'university of calcutta', 'university of delhi']\n",
      "resume collated data/approved\\PrajnaDas.pdf\n",
      "['guru gobind singh indraprastha university']\n",
      "resume collated data/approved\\Rajeshwarsehdev Resume.pdf\n",
      "[]\n",
      "resume collated data/approved\\Resume - Sumeet.pdf\n",
      "[]\n",
      "resume collated data/approved\\Resume_Gautam.pdf\n",
      "[]\n",
      "resume collated data/approved\\Resume_MandarKulkarni.pdf\n",
      "[]\n",
      "resume collated data/approved\\resume_nw.docx\n",
      "[]\n",
      "resume collated data/approved\\Rohit Khemka_CV.pdf\n",
      "[]\n",
      "resume collated data/approved\\Saheli_Ray_Resume.pdf\n",
      "['christ university']\n",
      "resume collated data/approved\\Sai Kumar Resume.pdf\n",
      "[]\n",
      "resume collated data/approved\\Saichawan_landmarkgroup_3years.pdf\n",
      "[]\n",
      "resume collated data/approved\\Sajag Agrawal_Analyst_Resume.pdf\n",
      "['uttar pradesh technical university']\n",
      "resume collated data/approved\\Saumya Srivastava_Resume.pdf\n",
      "['panjab university']\n",
      "resume collated data/approved\\Savneet Kaur Arora Resume.pdf\n",
      "['anna university']\n",
      "resume collated data/approved\\Sharon_Viz.docx\n",
      "[]\n",
      "resume collated data/approved\\Shubham Rai Resume.pdf\n",
      "[]\n",
      "resume collated data/approved\\Sindhumatipanigrahi@gmailDotcom.pdf\n",
      "['west bengal university of technology', 'university of technology']\n",
      "resume collated data/approved\\Soumojit Chowdhury_Resume.pdf\n",
      "['indian institute of technology, bombay']\n",
      "resume collated data/approved\\Sourav_Bhunia_Resume_v2.pdf\n",
      "[]\n",
      "resume collated data/approved\\Sunil Kumar.docx\n",
      "[]\n",
      "resume collated data/approved\\Utsav Murarka_Resume.pdf\n",
      "[]\n",
      "resume collated data/approved\\Vatsala_Jayswal_Resume-2-PDF.pdf\n",
      "[]\n",
      "resume collated data/approved\\Vikrant's Resume (5).pdf\n",
      "[]\n",
      "resume collated data/approved\\Vivek Resume.pdf\n"
     ]
    }
   ],
   "source": [
    "for each_resume in list_of_resume:\n",
    "    try:\n",
    "        data = resumeparse.read_file(each_resume)\n",
    "        data_unlist = {k: str(v) for k,v in data.items()}\n",
    "        print(each_resume)\n",
    "        curr_df = pd.DataFrame(data_unlist,index =[0])\n",
    "        curr_df['resume_filename'] = each_resume\n",
    "        parsed_df = parsed_df.append(curr_df)\n",
    "    except:\n",
    "#         raise\n",
    "        pass"
   ]
  },
  {
   "cell_type": "code",
   "execution_count": 7,
   "metadata": {},
   "outputs": [],
   "source": [
    "parsed_df.to_csv('parsed_df.csv', index=False)"
   ]
  }
 ],
 "metadata": {
  "kernelspec": {
   "display_name": "Python 3",
   "language": "python",
   "name": "python3"
  },
  "language_info": {
   "codemirror_mode": {
    "name": "ipython",
    "version": 3
   },
   "file_extension": ".py",
   "mimetype": "text/x-python",
   "name": "python",
   "nbconvert_exporter": "python",
   "pygments_lexer": "ipython3",
   "version": "3.8.5"
  }
 },
 "nbformat": 4,
 "nbformat_minor": 4
}
